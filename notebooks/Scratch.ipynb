{
 "cells": [
  {
   "cell_type": "markdown",
   "id": "e3f68010-0fa8-4e4e-a55a-3833a4d8e00f",
   "metadata": {},
   "source": [
    "# Scratch"
   ]
  },
  {
   "cell_type": "markdown",
   "id": "f1e3c0fd-afe8-4c14-9388-977b4ed5f45c",
   "metadata": {},
   "source": [
    "---\n",
    "\n",
    "### Imports & Setup"
   ]
  },
  {
   "cell_type": "markdown",
   "id": "b8d8e7dd-b8da-4990-b872-83979d992594",
   "metadata": {
    "jp-MarkdownHeadingCollapsed": true
   },
   "source": [
    "Installs"
   ]
  },
  {
   "cell_type": "code",
   "execution_count": 11,
   "id": "ac7abbf3-6a86-4c61-bf49-f573e804c09c",
   "metadata": {},
   "outputs": [
    {
     "name": "stdout",
     "output_type": "stream",
     "text": [
      "Requirement already satisfied: openai in /home/ramshreyas/.cache/pypoetry/virtualenvs/tldr-bot-m3iomiM3-py3.10/lib/python3.10/site-packages (1.26.0)\n",
      "Requirement already satisfied: sqlalchemy in /home/ramshreyas/.cache/pypoetry/virtualenvs/tldr-bot-m3iomiM3-py3.10/lib/python3.10/site-packages (2.0.29)\n",
      "Requirement already satisfied: sqlmodel in /home/ramshreyas/.cache/pypoetry/virtualenvs/tldr-bot-m3iomiM3-py3.10/lib/python3.10/site-packages (0.0.16)\n",
      "Requirement already satisfied: psycopg2-binary in /home/ramshreyas/.cache/pypoetry/virtualenvs/tldr-bot-m3iomiM3-py3.10/lib/python3.10/site-packages (2.9.9)\n",
      "Requirement already satisfied: pandas in /home/ramshreyas/.cache/pypoetry/virtualenvs/tldr-bot-m3iomiM3-py3.10/lib/python3.10/site-packages (2.2.2)\n",
      "Requirement already satisfied: anyio<5,>=3.5.0 in /home/ramshreyas/.cache/pypoetry/virtualenvs/tldr-bot-m3iomiM3-py3.10/lib/python3.10/site-packages (from openai) (4.3.0)\n",
      "Requirement already satisfied: distro<2,>=1.7.0 in /home/ramshreyas/.cache/pypoetry/virtualenvs/tldr-bot-m3iomiM3-py3.10/lib/python3.10/site-packages (from openai) (1.9.0)\n",
      "Requirement already satisfied: httpx<1,>=0.23.0 in /home/ramshreyas/.cache/pypoetry/virtualenvs/tldr-bot-m3iomiM3-py3.10/lib/python3.10/site-packages (from openai) (0.27.0)\n",
      "Requirement already satisfied: pydantic<3,>=1.9.0 in /home/ramshreyas/.cache/pypoetry/virtualenvs/tldr-bot-m3iomiM3-py3.10/lib/python3.10/site-packages (from openai) (2.7.1)\n",
      "Requirement already satisfied: sniffio in /home/ramshreyas/.cache/pypoetry/virtualenvs/tldr-bot-m3iomiM3-py3.10/lib/python3.10/site-packages (from openai) (1.3.1)\n",
      "Requirement already satisfied: tqdm>4 in /home/ramshreyas/.cache/pypoetry/virtualenvs/tldr-bot-m3iomiM3-py3.10/lib/python3.10/site-packages (from openai) (4.66.4)\n",
      "Requirement already satisfied: typing-extensions<5,>=4.7 in /home/ramshreyas/.cache/pypoetry/virtualenvs/tldr-bot-m3iomiM3-py3.10/lib/python3.10/site-packages (from openai) (4.11.0)\n",
      "Requirement already satisfied: greenlet!=0.4.17 in /home/ramshreyas/.cache/pypoetry/virtualenvs/tldr-bot-m3iomiM3-py3.10/lib/python3.10/site-packages (from sqlalchemy) (3.0.3)\n",
      "Requirement already satisfied: numpy>=1.22.4 in /home/ramshreyas/.cache/pypoetry/virtualenvs/tldr-bot-m3iomiM3-py3.10/lib/python3.10/site-packages (from pandas) (1.26.4)\n",
      "Requirement already satisfied: python-dateutil>=2.8.2 in /home/ramshreyas/.cache/pypoetry/virtualenvs/tldr-bot-m3iomiM3-py3.10/lib/python3.10/site-packages (from pandas) (2.9.0.post0)\n",
      "Requirement already satisfied: pytz>=2020.1 in /home/ramshreyas/.cache/pypoetry/virtualenvs/tldr-bot-m3iomiM3-py3.10/lib/python3.10/site-packages (from pandas) (2024.1)\n",
      "Requirement already satisfied: tzdata>=2022.7 in /home/ramshreyas/.cache/pypoetry/virtualenvs/tldr-bot-m3iomiM3-py3.10/lib/python3.10/site-packages (from pandas) (2024.1)\n",
      "Requirement already satisfied: idna>=2.8 in /home/ramshreyas/.cache/pypoetry/virtualenvs/tldr-bot-m3iomiM3-py3.10/lib/python3.10/site-packages (from anyio<5,>=3.5.0->openai) (3.7)\n",
      "Requirement already satisfied: exceptiongroup>=1.0.2 in /home/ramshreyas/.cache/pypoetry/virtualenvs/tldr-bot-m3iomiM3-py3.10/lib/python3.10/site-packages (from anyio<5,>=3.5.0->openai) (1.2.1)\n",
      "Requirement already satisfied: certifi in /home/ramshreyas/.cache/pypoetry/virtualenvs/tldr-bot-m3iomiM3-py3.10/lib/python3.10/site-packages (from httpx<1,>=0.23.0->openai) (2024.2.2)\n",
      "Requirement already satisfied: httpcore==1.* in /home/ramshreyas/.cache/pypoetry/virtualenvs/tldr-bot-m3iomiM3-py3.10/lib/python3.10/site-packages (from httpx<1,>=0.23.0->openai) (1.0.5)\n",
      "Requirement already satisfied: h11<0.15,>=0.13 in /home/ramshreyas/.cache/pypoetry/virtualenvs/tldr-bot-m3iomiM3-py3.10/lib/python3.10/site-packages (from httpcore==1.*->httpx<1,>=0.23.0->openai) (0.14.0)\n",
      "Requirement already satisfied: annotated-types>=0.4.0 in /home/ramshreyas/.cache/pypoetry/virtualenvs/tldr-bot-m3iomiM3-py3.10/lib/python3.10/site-packages (from pydantic<3,>=1.9.0->openai) (0.6.0)\n",
      "Requirement already satisfied: pydantic-core==2.18.2 in /home/ramshreyas/.cache/pypoetry/virtualenvs/tldr-bot-m3iomiM3-py3.10/lib/python3.10/site-packages (from pydantic<3,>=1.9.0->openai) (2.18.2)\n",
      "Requirement already satisfied: six>=1.5 in /home/ramshreyas/.cache/pypoetry/virtualenvs/tldr-bot-m3iomiM3-py3.10/lib/python3.10/site-packages (from python-dateutil>=2.8.2->pandas) (1.16.0)\n",
      "Note: you may need to restart the kernel to use updated packages.\n"
     ]
    }
   ],
   "source": [
    "# Run this cell to install required packages in your Jupyter notebook environment\n",
    "%pip install openai sqlalchemy sqlmodel psycopg2-binary pandas"
   ]
  },
  {
   "cell_type": "markdown",
   "id": "c70222f9",
   "metadata": {},
   "source": [
    "General imports"
   ]
  },
  {
   "cell_type": "code",
   "execution_count": 2,
   "id": "6ac6c594",
   "metadata": {},
   "outputs": [],
   "source": [
    "from datetime import datetime, timedelta\n",
    "from typing import List, Optional"
   ]
  },
  {
   "cell_type": "markdown",
   "id": "27802efe-2b0d-4624-962f-24999ed68970",
   "metadata": {},
   "source": [
    "Connect to DB"
   ]
  },
  {
   "cell_type": "code",
   "execution_count": 7,
   "id": "1a9b8eaa-3d31-4a8f-8572-dc62764a6ac1",
   "metadata": {},
   "outputs": [],
   "source": [
    "from sqlalchemy import create_engine\n",
    "from sqlmodel import Session, SQLModel, select\n",
    "\n",
    "# PostgreSQL connection URL\n",
    "DATABASE_HOST = \"localhost\"  # Service name in docker-compose.yml\n",
    "DATABASE_PORT = \"5432\"\n",
    "DATABASE_NAME = \"updatesdb\"\n",
    "DATABASE_USER = \"postgres\"\n",
    "DATABASE_PASSWORD = \"your_password\"\n",
    "\n",
    "ENGINE_URL = f\"postgresql://{DATABASE_USER}:{DATABASE_PASSWORD}@{DATABASE_HOST}:{DATABASE_PORT}/{DATABASE_NAME}\"\n",
    "\n",
    "engine = create_engine(ENGINE_URL, echo=True, pool_pre_ping=True)\n",
    "\n",
    "# Optional: If you need to create the tables in your database (uncomment if necessary)\n",
    "# SQLModel.metadata.create_all(engine)"
   ]
  },
  {
   "cell_type": "markdown",
   "id": "78584ef2-63cc-457e-9c99-8ff695b9c8e3",
   "metadata": {},
   "source": [
    "Models"
   ]
  },
  {
   "cell_type": "code",
   "execution_count": null,
   "id": "a5cd5671-3294-45ef-9185-5c0ccaf194fa",
   "metadata": {},
   "outputs": [],
   "source": [
    "from sqlmodel import SQLModel, Field, Relationship\n",
    "from sqlalchemy import Column, BigInteger\n",
    "\n",
    "class ChatType(SQLModel, table=True):\n",
    "    id: Optional[int] = Field(default=None, primary_key=True)\n",
    "    type_name: str = Field(sa_column_kwargs={\"unique\": False})\n",
    "\n",
    "class Chat(SQLModel, table=True):\n",
    "    id: int = Field(primary_key=True)\n",
    "    chat_id: Optional[int] = Field(default=None, sa_column=Column(BigInteger()))\n",
    "    all_members_are_administrators: bool = Field()\n",
    "    title: str = Field()\n",
    "    type_id: int = Field(foreign_key=\"chattype.id\")\n",
    "    type: ChatType = Relationship()\n",
    "\n",
    "class User(SQLModel, table=True):\n",
    "    id: int = Field(primary_key=True, index=True)\n",
    "    user_id: Optional[int] = Field(default=None)  # Telegram user ID\n",
    "    first_name: str = Field()\n",
    "    last_name: Optional[str] = Field(default=None)\n",
    "    is_bot: bool = Field()\n",
    "    language_code: str = Field()\n",
    "    username: Optional[str] = Field()\n",
    "\n",
    "class Message(SQLModel, table=True):\n",
    "    id: int = Field(primary_key=True)\n",
    "    message_id: int = Field(default=None)\n",
    "    channel_chat_created: bool = Field()\n",
    "    chat_id: int = Field(foreign_key=\"chat.id\")\n",
    "    chat: Chat = Relationship()\n",
    "    date: int = Field()\n",
    "    delete_chat_photo: bool = Field()\n",
    "    from_user_id: int = Field(foreign_key=\"user.id\")\n",
    "    from_user: User = Relationship()\n",
    "    group_chat_created: bool = Field()\n",
    "    reply_to_message_id: Optional[int] = Field(default=None, foreign_key=\"message.id\")\n",
    "    reply_to_message: 'Message' = Relationship(sa_relationship_kwargs={\"remote_side\": \"Message.id\"})\n",
    "    supergroup_chat_created: bool = Field()\n",
    "    text: Optional[str] = Field()\n",
    "\n",
    "class Update(SQLModel, table=True):\n",
    "    update_id: int = Field(primary_key=True)\n",
    "    message_id: Optional[int] = Field(default=None, foreign_key=\"message.id\")\n",
    "    message: Optional[Message] = Relationship()"
   ]
  },
  {
   "cell_type": "markdown",
   "id": "ce4fcedb-b487-4a82-a83f-d975aa1c1332",
   "metadata": {
    "jp-MarkdownHeadingCollapsed": true
   },
   "source": [
    "---\n",
    "\n",
    "### Display Tables (in pandas)"
   ]
  },
  {
   "cell_type": "code",
   "execution_count": 9,
   "id": "bc9b9a00-897a-44da-a2cc-43972a843319",
   "metadata": {},
   "outputs": [],
   "source": [
    "import pandas as pd\n",
    "\n",
    "def display_table_data_pandas(model_class):\n",
    "    with Session(engine) as session:\n",
    "        statement = select(model_class)\n",
    "        results = session.exec(statement).all()\n",
    "        return pd.DataFrame([result.__dict__ for result in results])"
   ]
  },
  {
   "cell_type": "code",
   "execution_count": 10,
   "id": "81b6de44-1a62-4567-9fbe-03147e42b8e0",
   "metadata": {},
   "outputs": [
    {
     "name": "stdout",
     "output_type": "stream",
     "text": [
      "2024-05-11 12:14:02,717 INFO sqlalchemy.engine.Engine select pg_catalog.version()\n",
      "2024-05-11 12:14:02,717 INFO sqlalchemy.engine.Engine [raw sql] {}\n",
      "2024-05-11 12:14:02,718 INFO sqlalchemy.engine.Engine select current_schema()\n",
      "2024-05-11 12:14:02,718 INFO sqlalchemy.engine.Engine [raw sql] {}\n",
      "2024-05-11 12:14:02,719 INFO sqlalchemy.engine.Engine show standard_conforming_strings\n",
      "2024-05-11 12:14:02,719 INFO sqlalchemy.engine.Engine [raw sql] {}\n",
      "2024-05-11 12:14:02,720 INFO sqlalchemy.engine.Engine BEGIN (implicit)\n",
      "2024-05-11 12:14:02,726 INFO sqlalchemy.engine.Engine SELECT message.id, message.message_id, message.channel_chat_created, message.chat_id, message.date, message.delete_chat_photo, message.from_user_id, message.group_chat_created, message.reply_to_message_id, message.supergroup_chat_created, message.text \n",
      "FROM message\n",
      "2024-05-11 12:14:02,726 INFO sqlalchemy.engine.Engine [generated in 0.00041s] {}\n",
      "2024-05-11 12:14:02,728 INFO sqlalchemy.engine.Engine ROLLBACK\n"
     ]
    },
    {
     "data": {
      "text/html": [
       "<div>\n",
       "<style scoped>\n",
       "    .dataframe tbody tr th:only-of-type {\n",
       "        vertical-align: middle;\n",
       "    }\n",
       "\n",
       "    .dataframe tbody tr th {\n",
       "        vertical-align: top;\n",
       "    }\n",
       "\n",
       "    .dataframe thead th {\n",
       "        text-align: right;\n",
       "    }\n",
       "</style>\n",
       "<table border=\"1\" class=\"dataframe\">\n",
       "  <thead>\n",
       "    <tr style=\"text-align: right;\">\n",
       "      <th></th>\n",
       "      <th>_sa_instance_state</th>\n",
       "      <th>id</th>\n",
       "      <th>chat_id</th>\n",
       "      <th>delete_chat_photo</th>\n",
       "      <th>group_chat_created</th>\n",
       "      <th>supergroup_chat_created</th>\n",
       "      <th>message_id</th>\n",
       "      <th>channel_chat_created</th>\n",
       "      <th>date</th>\n",
       "      <th>from_user_id</th>\n",
       "      <th>reply_to_message_id</th>\n",
       "      <th>text</th>\n",
       "    </tr>\n",
       "  </thead>\n",
       "  <tbody>\n",
       "    <tr>\n",
       "      <th>0</th>\n",
       "      <td>&lt;sqlalchemy.orm.state.InstanceState object at ...</td>\n",
       "      <td>1</td>\n",
       "      <td>2</td>\n",
       "      <td>False</td>\n",
       "      <td>False</td>\n",
       "      <td>False</td>\n",
       "      <td>22497</td>\n",
       "      <td>False</td>\n",
       "      <td>1715268507</td>\n",
       "      <td>2</td>\n",
       "      <td>NaN</td>\n",
       "      <td>are you saying this due to the whole wallet wh...</td>\n",
       "    </tr>\n",
       "    <tr>\n",
       "      <th>1</th>\n",
       "      <td>&lt;sqlalchemy.orm.state.InstanceState object at ...</td>\n",
       "      <td>2</td>\n",
       "      <td>1</td>\n",
       "      <td>False</td>\n",
       "      <td>False</td>\n",
       "      <td>False</td>\n",
       "      <td>22501</td>\n",
       "      <td>False</td>\n",
       "      <td>1715270079</td>\n",
       "      <td>1</td>\n",
       "      <td>1.0</td>\n",
       "      <td>No. the same whitelisting issues exists with 7...</td>\n",
       "    </tr>\n",
       "    <tr>\n",
       "      <th>2</th>\n",
       "      <td>&lt;sqlalchemy.orm.state.InstanceState object at ...</td>\n",
       "      <td>3</td>\n",
       "      <td>3</td>\n",
       "      <td>False</td>\n",
       "      <td>False</td>\n",
       "      <td>False</td>\n",
       "      <td>248</td>\n",
       "      <td>False</td>\n",
       "      <td>1715270331</td>\n",
       "      <td>3</td>\n",
       "      <td>NaN</td>\n",
       "      <td>Ok Archiving is working fine for now, will sta...</td>\n",
       "    </tr>\n",
       "    <tr>\n",
       "      <th>3</th>\n",
       "      <td>&lt;sqlalchemy.orm.state.InstanceState object at ...</td>\n",
       "      <td>4</td>\n",
       "      <td>4</td>\n",
       "      <td>False</td>\n",
       "      <td>False</td>\n",
       "      <td>False</td>\n",
       "      <td>22502</td>\n",
       "      <td>False</td>\n",
       "      <td>1715270488</td>\n",
       "      <td>4</td>\n",
       "      <td>NaN</td>\n",
       "      <td>From the POV of wallets, I think the whitelist...</td>\n",
       "    </tr>\n",
       "    <tr>\n",
       "      <th>4</th>\n",
       "      <td>&lt;sqlalchemy.orm.state.InstanceState object at ...</td>\n",
       "      <td>5</td>\n",
       "      <td>6</td>\n",
       "      <td>False</td>\n",
       "      <td>False</td>\n",
       "      <td>False</td>\n",
       "      <td>22502</td>\n",
       "      <td>False</td>\n",
       "      <td>1715270488</td>\n",
       "      <td>6</td>\n",
       "      <td>NaN</td>\n",
       "      <td>From the POV of wallets, I think the whitelist...</td>\n",
       "    </tr>\n",
       "  </tbody>\n",
       "</table>\n",
       "</div>"
      ],
      "text/plain": [
       "                                  _sa_instance_state  id  chat_id  \\\n",
       "0  <sqlalchemy.orm.state.InstanceState object at ...   1        2   \n",
       "1  <sqlalchemy.orm.state.InstanceState object at ...   2        1   \n",
       "2  <sqlalchemy.orm.state.InstanceState object at ...   3        3   \n",
       "3  <sqlalchemy.orm.state.InstanceState object at ...   4        4   \n",
       "4  <sqlalchemy.orm.state.InstanceState object at ...   5        6   \n",
       "\n",
       "   delete_chat_photo  group_chat_created  supergroup_chat_created  message_id  \\\n",
       "0              False               False                    False       22497   \n",
       "1              False               False                    False       22501   \n",
       "2              False               False                    False         248   \n",
       "3              False               False                    False       22502   \n",
       "4              False               False                    False       22502   \n",
       "\n",
       "   channel_chat_created        date  from_user_id  reply_to_message_id  \\\n",
       "0                 False  1715268507             2                  NaN   \n",
       "1                 False  1715270079             1                  1.0   \n",
       "2                 False  1715270331             3                  NaN   \n",
       "3                 False  1715270488             4                  NaN   \n",
       "4                 False  1715270488             6                  NaN   \n",
       "\n",
       "                                                text  \n",
       "0  are you saying this due to the whole wallet wh...  \n",
       "1  No. the same whitelisting issues exists with 7...  \n",
       "2  Ok Archiving is working fine for now, will sta...  \n",
       "3  From the POV of wallets, I think the whitelist...  \n",
       "4  From the POV of wallets, I think the whitelist...  "
      ]
     },
     "execution_count": 10,
     "metadata": {},
     "output_type": "execute_result"
    }
   ],
   "source": [
    "# Display data using pandas for better formatting\n",
    "data = display_table_data_pandas(Message)\n",
    "data.head()"
   ]
  },
  {
   "cell_type": "markdown",
   "id": "219a061d-4a17-4710-991c-3366a0e34e55",
   "metadata": {},
   "source": [
    "---\n",
    "\n",
    "### Reconstruct Chat History\n",
    "\n",
    "This function takes a list of conversations and message and returns the index of the conversation the message belongs to, or none"
   ]
  },
  {
   "cell_type": "code",
   "execution_count": 95,
   "id": "761c5cb0",
   "metadata": {},
   "outputs": [],
   "source": [
    "from openai import OpenAI\n",
    "from dotenv import load_dotenv\n",
    "import os\n",
    "load_dotenv()\n",
    "\n",
    "def select_conversation_for_message(conversations: List[List[Message]], message: Message) -> int:\n",
    "    # Instantiate OpenAI chat client\n",
    "    gpt = OpenAI(api_key=os.getenv(\"OPENAI_API_KEY\"))\n",
    "\n",
    "    # Prompt template\n",
    "    prompt = \"\"\"\n",
    "This is a list of indexed conversations:\n",
    "\n",
    "{conversations}\n",
    "\n",
    "This is a message that needs to be placed in one of the conversations above:\n",
    "\n",
    "{message}\n",
    "\n",
    "Please reply with the index of the conversation that the message belongs to.\n",
    "Think about the context of the conversation and how the message fits in.\n",
    "Your response will be converted into an int for further processing, so please \n",
    "reply with only the number and absolutely nothing else.\n",
    "\"\"\"\n",
    "\n",
    "    conversation_text = \"\"\n",
    "\n",
    "    for index, conversation in enumerate(conversations):\n",
    "        # Generate the conversation text with an index\n",
    "        conversation_text = conversation_text + f\"\\n{index}: \\n\" + \"\\n\".join([f\"{message.from_user.username}: {message.text}\" for message in conversation])\n",
    "\n",
    "    prompt = prompt.format(conversations=conversation_text, message=f\"{message.from_user.username}: {message.text}\")\n",
    "\n",
    "    # Generate the completion\n",
    "    completion = gpt.chat.completions.create(\n",
    "        model=\"gpt-3.5-turbo\",\n",
    "        messages=[{\"role\": \"user\", \"content\": prompt}],\n",
    "        max_tokens=10,\n",
    "        temperature=0.1,\n",
    "        top_p=1,\n",
    "        frequency_penalty=0,\n",
    "        presence_penalty=0\n",
    "    )\n",
    "    \n",
    "    # Extract the completion choice\n",
    "    choice = int(completion.choices[0].message.content.strip())\n",
    "\n",
    "    # # Return the choice if it is valid\n",
    "    if 0 <= choice < len(conversations):\n",
    "        return choice\n",
    "        \n",
    "    return None"
   ]
  },
  {
   "cell_type": "code",
   "execution_count": 96,
   "id": "c0e87e36",
   "metadata": {},
   "outputs": [
    {
     "data": {
      "text/plain": [
       "1"
      ]
     },
     "execution_count": 96,
     "metadata": {},
     "output_type": "execute_result"
    }
   ],
   "source": [
    "# Dummy conversations for testing\n",
    "# Creating dummy users\n",
    "user1 = User(id=1, username=\"Alice\")\n",
    "user2 = User(id=2, username=\"Bob\")\n",
    "\n",
    "# Creating dummy messages\n",
    "message1 = Message(id=1, from_user=user1, text=\"Hello, how are you?\", reply_to_message_id=None)\n",
    "message2 = Message(id=2, from_user=user2, text=\"I'm good, thanks! And you?\", reply_to_message_id=1)\n",
    "message3 = Message(id=3, from_user=user1, text=\"Great to hear that, I'm fine too.\", reply_to_message_id=2)\n",
    "\n",
    "message4 = Message(id=4, from_user=user2, text=\"Have you seen the latest movie?\", reply_to_message_id=None)\n",
    "message5 = Message(id=5, from_user=user1, text=\"Not yet, is it good?\", reply_to_message_id=4)\n",
    "\n",
    "# Creating test message\n",
    "# message = Message(id=6, from_user=user2, text=\"It was an amazing movie!\", reply_to_message_id=None)\n",
    "message = Message(id=6, from_user=user2, text=\"Ok, I'll watch it this week then.\", reply_to_message_id=None)\n",
    "\n",
    "# Organizing messages into conversations\n",
    "conversations = [\n",
    "    [message1, message2, message3],  # Conversation 1\n",
    "    [message4, message5]             # Conversation 2\n",
    "]\n",
    "\n",
    "# Test the function\n",
    "select_conversation_for_message(conversations, message)"
   ]
  },
  {
   "cell_type": "markdown",
   "id": "6d5b83a3",
   "metadata": {},
   "source": [
    "\n",
    "This function takes a list of conversations and a message and appends the message to the conversation it belongs to. "
   ]
  },
  {
   "cell_type": "code",
   "execution_count": null,
   "id": "bc09cf7c",
   "metadata": {},
   "outputs": [],
   "source": [
    "def select_conversation_for_message_and_add(conversations: List[List[Message]], message: Message, openai_client):\n",
    "    # Check if the message is a direct reply\n",
    "    if hasattr(message, 'reply_to_message_id') and message.reply_to_message_id:\n",
    "        for conversation in conversations:\n",
    "            for msg in conversation:\n",
    "                if msg.id == message.reply_to_message_id:\n",
    "                    conversation.append(message)\n",
    "                    return\n",
    "    \n",
    "    # Use AI to find the right conversation for non-reply messages\n",
    "    if len(conversations) > 0:\n",
    "        conversation_index = select_conversation_for_message(conversations, message, openai_client)\n",
    "        if conversation_index is not None:\n",
    "            conversations[conversation_index].append(message)\n",
    "            return\n",
    "\n",
    "    # If no conversation fits or list is empty, start a new conversation\n",
    "    conversations.append([message])"
   ]
  },
  {
   "cell_type": "code",
   "execution_count": 10,
   "id": "850448fd-453d-45c4-a5c3-c6fff5d75837",
   "metadata": {},
   "outputs": [],
   "source": [
    "def reconstruct_chat_as_conversations(engine, start_time: datetime, end_time: datetime) -> List[List[Message]]:\n",
    "    conversations = []  # This will store lists of messages categorized into conversations\n",
    "    with Session(engine) as session:\n",
    "        # Fetch all messages within the given time range, ordering by the date\n",
    "        statement = select(Message).where(\n",
    "            Message.date >= start_time.timestamp(),  # Assuming 'date' is stored as a UNIX timestamp\n",
    "            Message.date <= end_time.timestamp()\n",
    "        ).order_by(Message.date)\n",
    "        results = session.exec(statement).all()\n",
    "\n",
    "        for message in results:\n",
    "            select_conversation_for_message_and_add(conversations, message)\n",
    "    \n",
    "    return conversations"
   ]
  },
  {
   "cell_type": "code",
   "execution_count": 7,
   "id": "8ca7dc00-0d4c-4bf6-98bd-276dad0a6cd5",
   "metadata": {},
   "outputs": [
    {
     "name": "stdout",
     "output_type": "stream",
     "text": [
      "2024-05-11 09:12:25,250 INFO sqlalchemy.engine.Engine BEGIN (implicit)\n",
      "2024-05-11 09:12:25,251 INFO sqlalchemy.engine.Engine SELECT message.id, message.message_id, message.channel_chat_created, message.chat_id, message.date, message.delete_chat_photo, message.from_user_id, message.group_chat_created, message.reply_to_message_id, message.supergroup_chat_created, message.text, \"user\".id AS id_1, \"user\".user_id, \"user\".first_name, \"user\".last_name, \"user\".is_bot, \"user\".language_code, \"user\".username \n",
      "FROM message JOIN \"user\" ON \"user\".id = message.from_user_id \n",
      "WHERE message.date >= %(date_1)s AND message.date <= %(date_2)s ORDER BY message.date\n",
      "2024-05-11 09:12:25,252 INFO sqlalchemy.engine.Engine [generated in 0.00025s] {'date_1': 1715299200.0, 'date_2': 1715385599.0}\n",
      "2024-05-11 09:12:25,258 INFO sqlalchemy.engine.Engine SELECT message.id AS message_id_1, message.message_id AS message_message_id, message.channel_chat_created AS message_channel_chat_created, message.chat_id AS message_chat_id, message.date AS message_date, message.delete_chat_photo AS message_delete_chat_photo, message.from_user_id AS message_from_user_id, message.group_chat_created AS message_group_chat_created, message.reply_to_message_id AS message_reply_to_message_id, message.supergroup_chat_created AS message_supergroup_chat_created, message.text AS message_text \n",
      "FROM message \n",
      "WHERE message.id = %(pk_1)s\n",
      "2024-05-11 09:12:25,258 INFO sqlalchemy.engine.Engine [generated in 0.00021s] {'pk_1': 18}\n",
      "2024-05-11 09:12:25,259 INFO sqlalchemy.engine.Engine SELECT \"user\".id AS user_id_1, \"user\".user_id AS user_user_id, \"user\".first_name AS user_first_name, \"user\".last_name AS user_last_name, \"user\".is_bot AS user_is_bot, \"user\".language_code AS user_language_code, \"user\".username AS user_username \n",
      "FROM \"user\" \n",
      "WHERE \"user\".id = %(pk_1)s\n",
      "2024-05-11 09:12:25,259 INFO sqlalchemy.engine.Engine [generated in 0.00016s] {'pk_1': 19}\n",
      "2024-05-11 09:12:25,259 INFO sqlalchemy.engine.Engine ROLLBACK\n"
     ]
    }
   ],
   "source": [
    "# Get dates\n",
    "today = datetime.now()\n",
    "previous_day = today - timedelta(days=1)\n",
    "# Set start_time to the beginning of the previous day (00:00:00)\n",
    "start_time = datetime(previous_day.year, previous_day.month, previous_day.day, 0, 0, 0)\n",
    "# Set end_time to the end of the previous day (23:59:59)\n",
    "end_time = datetime(previous_day.year, previous_day.month, previous_day.day, 23, 59, 59)\n",
    "\n",
    "# Get chat history text\n",
    "chat_text = reconstruct_chat_as_text(engine, start_time, end_time)"
   ]
  },
  {
   "cell_type": "code",
   "execution_count": 8,
   "id": "33d5ec13-e669-4810-a059-4650f5c2fa04",
   "metadata": {},
   "outputs": [
    {
     "name": "stdout",
     "output_type": "stream",
     "text": [
      "big_tech_sux: <replying to: vb271828: The main value of code immutability is so that other contracts can point to specific addresses on chain and use them as libraries. And in ERC4337, accessing mutable libraries becomes a DoS attack vector> yea, maybe i'm a bit late to the discussion but it seems like a bit of a footgun if contracts can't determine if a given code is mutable (i.e. it's an eoa) or not\n",
      "big_tech_sux: but to my small mind, ephemeral code as defined in 7702 should behave basically like initializing a selfdestructing contract, and then immediately delegatecalling into it. and maybe we get an IS_EOA opcode??\n",
      "big_tech_sux: but to my small brain, ephemeral code as defined in 7702 should behave basically like initializing a selfdestructing contract, and then immediately delegatecalling into it. and maybe we get an IS_EOA opcode??\n",
      "big_tech_sux: but to my small brain, ephemeral code as defined in 7702 should behave basically like initializing a selfdestructing contract, and then immediately delegatecalling into it. and maybe we get an IS_EOA opcode??\n",
      "big_tech_sux: but to my small brain, ephemeral code as defined in 7702 should behave basically like initializing a selfdestructing contract, and then immediately delegatecalling into it. and maybe we get an IS_EOA opcode??\n",
      "rimeissner: For the use case of contract libraries this should not be necessary, right? You can easily check offchain if you can use a contract as a library. Also immutability within one transaction is already better than what we had with suicide. That being said, for what use cases would you want to use something like is_eoa?\n",
      "Note: for me adding an opcode for this would defeat the purpose of 7702 of not having to introduce opcodes.\n",
      "SamWilsn: If I had my way, there'd be no way to determine if an account was an EOA or not.\n",
      "SamWilsn: <replying to: big_tech_sux: but to my small brain, ephemeral code as defined in 7702 should behave basically like initializing a selfdestructing contract, and then immediately delegatecalling into it. and maybe we get an IS_EOA opcode??> If I had my way, there'd be no way to determine if an account was an EOA or not.\n",
      "SamWilsn: If I had my way, there'd be no way to determine if an account was an EOA or not.\n",
      "SamWilsn: If I had my way, there'd be no way to determine if an account was an EOA or not.\n",
      "SamWilsn: If I had my way, there'd be no way to determine if an account was an EOA or not.\n",
      "SamWilsn: If I had my way, there'd be no way to determine if an account was an EOA or not.\n",
      "SamWilsn: If I had my way, there'd be no way to determine if an account was an EOA or not.\n",
      "PhABC: <replying to: SamWilsn: If I had my way, there'd be no way to determine if an account was an EOA or not.> One day\n",
      "PhABC: <replying to: SamWilsn: If I had my way, there'd be no way to determine if an account was an EOA or not.> One day\n",
      "IvoGeorgiev: <replying to: SamWilsn: If I had my way, there'd be no way to determine if an account was an EOA or not.> +1 on that\n",
      "big_tech_sux: <replying to: SamWilsn: If I had my way, there'd be no way to determine if an account was an EOA or not.> eip-7702 introduces a way for accounts to have \"mutable\" code. you can tell an account is an EOA by detecting changes to its code. so you can't have eip-7702 _and_ \"no way\" to determine if an account is an EOA or not.\n",
      "big_tech_sux: eip-7702 introduces a way for accounts to have \"mutable\" code. you can tell an account is an EOA by detecting changes to its code. so you can't have eip-7702 _and_ \"no way\" to determine if an account is an EOA or not.\n",
      "big_tech_sux: <replying to: SamWilsn: If I had my way, there'd be no way to determine if an account was an EOA or not.> eip-7702 introduces a way for accounts to have \"mutable\" code. you can tell an account is an EOA by detecting changes to its code. so you can't have eip-7702 and \"no way\" to determine if an account is an EOA or not.\n",
      "SamWilsn: inb4 some interoperability breaking use case\n",
      "SamWilsn: <replying to: big_tech_sux: eip-7702 introduces a way for accounts to have \"mutable\" code. you can tell an account is an EOA by detecting changes to its code. so you can't have eip-7702 _and_ \"no way\" to determine if an account is an EOA or not.> Nerf codecopy, codesize, codehash, etc.\n",
      "SamWilsn: Can't detect changes if you can't see the code at all.\n",
      "big_tech_sux: i mean that's fine, idk if it really works without removing code introspection in the EVM entirely 😅\n",
      "big_tech_sux: maybe it should return 0x9dbf3648db8210552e9c4f75c6a1c3057c0ca432043bd648be15fe7be05646f5\n",
      "big_tech_sux: maybe it should return 0x9dbf3648db8210552e9c4f75c6a1c3057c0ca432043bd648be15fe7be05646f5\n",
      "big_tech_sux: (https://github.com/ipsilon/eof/blob/377ce10a12fb97e07092fedc55ce3e5dfcf3b458/spec/eof.md#modified-behavior)\n",
      "SamWilsn: I think EOF has some of that stuff defined\n",
      "big_tech_sux: it looks like an EOF contract (even without EOF being activated)\n",
      "big_tech_sux: then it looks like an EOF contract (even without EOF being activated)\n",
      "big_tech_sux: <replying to: big_tech_sux: but to my small brain, ephemeral code as defined in 7702 should behave basically like initializing a selfdestructing contract, and then immediately delegatecalling into it. and maybe we get an IS_EOA opcode??> also i guess if we follow the equivalent-to-immediately-selfdestructing semantics, i think the code will always appear as empty (although i never ever remember exactly how extcode* and initcode interact 🙈)\n",
      "big_tech_sux: also i guess if we follow the equivalent-to-immediately-selfdestructing semantics, i think the code will always appear as empty (although i never ever remember exactly how extcode* and initcode interact 🙈)\n",
      "SamWilsn: <replying to: big_tech_sux: also i guess if we follow the equivalent-to-immediately-selfdestructing semantics, i think the code will always appear as empty (although i never ever remember exactly how extcode* and initcode interact 🙈)> If we do 7702 with initcode, during initcode extcodesize would be zero, but for the rest of the transaction it would be non-zero\n",
      "big_tech_sux: spooky :)\n",
      "big_tech_sux: <replying to: big_tech_sux: but to my small brain, ephemeral code as defined in 7702 should behave basically like initializing a selfdestructing contract, and then immediately delegatecalling into it. and maybe we get an IS_EOA opcode??> mm i'm not sure though, because the way i proposed it, the code is being delegatecalled into\n",
      "SamWilsn: It can't literally be selfdestruct though, or it resets the nonce\n",
      "SamWilsn: It can't literally be delegatecall though, or it resets the nonce\n",
      "big_tech_sux: uh idk about that. the code will be deployed to some random-ish address and then selfdestructs, and the eoa will retain the property of no code when inspected with extcodehash\n",
      "big_tech_sux: uh idk about that. the code will be deployed to some random-ish address and then selfdestructs, and the eoa will retain the property of no code when inspected with extcodehash\n",
      "SamWilsn: So you're suggesting the implementation selfdestruct, then the EOA delegatecalls into it?\n",
      "SamWilsn: Either way, you lose what makes 7702 cool, which is that the 4337 entrypoint can call into it to validate UserOps\n",
      "SamWilsn: Either way, you lose what makes 7702 cool, which is that the 4337 entrypoint can call into the EOA to validate UserOps\n",
      "IvoGeorgiev: <replying to: big_tech_sux: uh idk about that. the code will be deployed to some random-ish address and then selfdestructs, and the eoa will retain the property of no code when inspected with extcodehash> this property is a double edged sword\n",
      "\n",
      "yes, you can fool shitty dapps that check for extcodesize\n",
      "\n",
      "but you also can't use eip-1271/eip-6492\n",
      "big_tech_sux: i guess the only way to achieve callbacks *and* no eoa detection is to obfuscate extcodehash and extcodecopy somehow\n",
      "big_tech_sux: <replying to: SamWilsn: If I had my way, there'd be no way to determine if an account was an EOA or not.> i guess the only way to achieve callbacks *and* no eoa detection is to obfuscate extcodehash and extcodecopy somehow\n",
      "big_tech_sux: i guess the only way to achieve callbacks *and* no eoa detection is to obfuscate extcodehash and extcodecopy somehow\n",
      "IvoGeorgiev: which is prob not feasible\n",
      "SamWilsn: <replying to: big_tech_sux: i guess the only way to achieve callbacks *and* no eoa detection is to obfuscate extcodehash and extcodecopy somehow> Simultaneously? No. But each individually only needs initcode\n",
      "sachin_t: Sharing our views on 7702 and how it compares with 3074\n",
      "\n",
      "https://www.biconomy.io/post/eip-7702-makes-it-dead-easy-to-integrate-eoas-into-4337-heres-why\n",
      "Dannprinc: Gm is it possible to contact people from the Biconomy team ?\n"
     ]
    }
   ],
   "source": [
    "print(chat_text)"
   ]
  },
  {
   "cell_type": "markdown",
   "id": "b8ba8880-05bb-4804-972f-b2a60bbcdc96",
   "metadata": {},
   "source": [
    "---\n",
    "\n",
    "### Extract topics"
   ]
  },
  {
   "cell_type": "code",
   "execution_count": 42,
   "id": "d27d9e68-3bc6-476f-996f-7640b83966be",
   "metadata": {},
   "outputs": [],
   "source": [
    "from openai import OpenAI\n",
    "\n",
    "client = OpenAI(api_key=\"your_api_key_here\")\n",
    "\n",
    "def extract_topics_from_chat(chat_text):\n",
    "    # Using the chat-specific completion API\n",
    "    response = client.chat.completions.create(\n",
    "        model=\"gpt-3.5-turbo\",  # Use an appropriate model, like 'gpt-3.5-turbo'\n",
    "        messages=[{\"role\": \"system\", \"content\": \"Extract the main topics from the following group chat:\"},\n",
    "                  {\"role\": \"user\", \"content\": chat_text}],\n",
    "        max_tokens=300,\n",
    "        temperature=0.5,\n",
    "        stop=[\"\\n\\n\"]\n",
    "    )\n",
    "    \n",
    "    return response.choices[0].message.content"
   ]
  },
  {
   "cell_type": "code",
   "execution_count": 43,
   "id": "d2f25d07-29fa-43a2-9250-309984ddda3f",
   "metadata": {},
   "outputs": [],
   "source": [
    "# Assume the OpenAI client is initialized and `extract_topics_from_chat` is defined\n",
    "dummy_chat_text = \"\"\"\n",
    "Alice: I just got a new kitten yesterday!\n",
    "Bob: Oh, that's awesome! What breed?\n",
    "Alice: She's a Maine Coon, absolutely adorable.\n",
    "Charlie: Speaking of pets, I've been thinking about getting a fish tank.\n",
    "Alice: Fish are cool, but they seem like a lot of work.\n",
    "Bob: <replying to: Charlie: Speaking of pets, I've been thinking about getting a fish tank.> It's not too bad, you should definitely go for it. I had one as a kid.\n",
    "Charlie: Any recommendations for beginner fish?\n",
    "Bob: Goldfish are pretty straightforward, but bettas have more personality.\n",
    "Alice: <replying to: Bob: Oh, that's awesome! What breed?> Cats are easier to handle though, don't you think?\n",
    "Bob: <replying to: Alice: Cats are easier to handle though, don't you think?> Definitely, cats are more independent.\n",
    "Charlie: I like dogs more though. They're more interactive.\n",
    "Alice: I'm allergic to dogs unfortunately.\n",
    "Bob: <replying to: Charlie: I like dogs more though. They're more interactive.> Dogs are great for active people. Always ready to go out.\n",
    "Charlie: <replying to: Bob: Goldfish are pretty straightforward, but bettas have more personality.> I might consider a betta then.\n",
    "Alice: Just make sure the tank is big enough, they need space to thrive.\n",
    "Bob: <replying to: Alice: Just make sure the tank is big enough, they need space to thrive.> Yeah, and keep the water clean!\n",
    "\"\"\"\n",
    "\n",
    "topics = extract_topics_from_chat(dummy_chat_text)"
   ]
  },
  {
   "cell_type": "code",
   "execution_count": 44,
   "id": "b5561e0d-c0fd-43cb-bd6f-a45470bab225",
   "metadata": {},
   "outputs": [
    {
     "name": "stdout",
     "output_type": "stream",
     "text": [
      "1. Pets (kitten, fish, cats, dogs)\n",
      "2. Fish tanks and fish care (beginner fish, tank size, water cleanliness)\n",
      "3. Different pet preferences (cats, dogs, fish)\n",
      "4. Allergies to pets\n",
      "5. Pet ownership responsibilities and considerations\n"
     ]
    }
   ],
   "source": [
    "print(topics)"
   ]
  },
  {
   "cell_type": "code",
   "execution_count": null,
   "id": "016375de-a269-4afc-bae3-89d00f50de6b",
   "metadata": {},
   "outputs": [],
   "source": []
  }
 ],
 "metadata": {
  "kernelspec": {
   "display_name": "Python 3 (ipykernel)",
   "language": "python",
   "name": "python3"
  },
  "language_info": {
   "codemirror_mode": {
    "name": "ipython",
    "version": 3
   },
   "file_extension": ".py",
   "mimetype": "text/x-python",
   "name": "python",
   "nbconvert_exporter": "python",
   "pygments_lexer": "ipython3",
   "version": "3.10.12"
  }
 },
 "nbformat": 4,
 "nbformat_minor": 5
}
