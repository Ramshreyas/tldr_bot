{
 "cells": [
  {
   "cell_type": "markdown",
   "id": "e3f68010-0fa8-4e4e-a55a-3833a4d8e00f",
   "metadata": {},
   "source": [
    "# Scratch"
   ]
  },
  {
   "cell_type": "markdown",
   "id": "f1e3c0fd-afe8-4c14-9388-977b4ed5f45c",
   "metadata": {},
   "source": [
    "---\n",
    "\n",
    "### Imports & Setup"
   ]
  },
  {
   "cell_type": "markdown",
   "id": "b8d8e7dd-b8da-4990-b872-83979d992594",
   "metadata": {
    "jp-MarkdownHeadingCollapsed": true
   },
   "source": [
    "Installs"
   ]
  },
  {
   "cell_type": "code",
   "execution_count": 20,
   "id": "ac7abbf3-6a86-4c61-bf49-f573e804c09c",
   "metadata": {},
   "outputs": [
    {
     "name": "stdout",
     "output_type": "stream",
     "text": [
      "Collecting openai\n",
      "  Downloading openai-1.26.0-py3-none-any.whl.metadata (21 kB)\n",
      "Requirement already satisfied: sqlalchemy in /opt/conda/lib/python3.11/site-packages (2.0.22)\n",
      "Requirement already satisfied: sqlmodel in /opt/conda/lib/python3.11/site-packages (0.0.18)\n",
      "Requirement already satisfied: psycopg2-binary in /opt/conda/lib/python3.11/site-packages (2.9.9)\n",
      "Requirement already satisfied: pandas in /opt/conda/lib/python3.11/site-packages (2.2.2)\n",
      "Requirement already satisfied: anyio<5,>=3.5.0 in /opt/conda/lib/python3.11/site-packages (from openai) (4.0.0)\n",
      "Collecting distro<2,>=1.7.0 (from openai)\n",
      "  Downloading distro-1.9.0-py3-none-any.whl.metadata (6.8 kB)\n",
      "Collecting httpx<1,>=0.23.0 (from openai)\n",
      "  Downloading httpx-0.27.0-py3-none-any.whl.metadata (7.2 kB)\n",
      "Requirement already satisfied: pydantic<3,>=1.9.0 in /opt/conda/lib/python3.11/site-packages (from openai) (2.7.1)\n",
      "Requirement already satisfied: sniffio in /opt/conda/lib/python3.11/site-packages (from openai) (1.3.0)\n",
      "Requirement already satisfied: tqdm>4 in /opt/conda/lib/python3.11/site-packages (from openai) (4.66.1)\n",
      "Requirement already satisfied: typing-extensions<5,>=4.7 in /opt/conda/lib/python3.11/site-packages (from openai) (4.8.0)\n",
      "Requirement already satisfied: greenlet!=0.4.17 in /opt/conda/lib/python3.11/site-packages (from sqlalchemy) (3.0.0)\n",
      "Requirement already satisfied: numpy>=1.23.2 in /opt/conda/lib/python3.11/site-packages (from pandas) (1.26.4)\n",
      "Requirement already satisfied: python-dateutil>=2.8.2 in /opt/conda/lib/python3.11/site-packages (from pandas) (2.8.2)\n",
      "Requirement already satisfied: pytz>=2020.1 in /opt/conda/lib/python3.11/site-packages (from pandas) (2023.3.post1)\n",
      "Requirement already satisfied: tzdata>=2022.7 in /opt/conda/lib/python3.11/site-packages (from pandas) (2024.1)\n",
      "Requirement already satisfied: idna>=2.8 in /opt/conda/lib/python3.11/site-packages (from anyio<5,>=3.5.0->openai) (3.4)\n",
      "Requirement already satisfied: certifi in /opt/conda/lib/python3.11/site-packages (from httpx<1,>=0.23.0->openai) (2023.7.22)\n",
      "Collecting httpcore==1.* (from httpx<1,>=0.23.0->openai)\n",
      "  Downloading httpcore-1.0.5-py3-none-any.whl.metadata (20 kB)\n",
      "Collecting h11<0.15,>=0.13 (from httpcore==1.*->httpx<1,>=0.23.0->openai)\n",
      "  Downloading h11-0.14.0-py3-none-any.whl.metadata (8.2 kB)\n",
      "Requirement already satisfied: annotated-types>=0.4.0 in /opt/conda/lib/python3.11/site-packages (from pydantic<3,>=1.9.0->openai) (0.6.0)\n",
      "Requirement already satisfied: pydantic-core==2.18.2 in /opt/conda/lib/python3.11/site-packages (from pydantic<3,>=1.9.0->openai) (2.18.2)\n",
      "Requirement already satisfied: six>=1.5 in /opt/conda/lib/python3.11/site-packages (from python-dateutil>=2.8.2->pandas) (1.16.0)\n",
      "Downloading openai-1.26.0-py3-none-any.whl (314 kB)\n",
      "\u001b[2K   \u001b[90m━━━━━━━━━━━━━━━━━━━━━━━━━━━━━━━━━━━━━━━━\u001b[0m \u001b[32m314.1/314.1 kB\u001b[0m \u001b[31m11.1 MB/s\u001b[0m eta \u001b[36m0:00:00\u001b[0m\n",
      "\u001b[?25hDownloading distro-1.9.0-py3-none-any.whl (20 kB)\n",
      "Downloading httpx-0.27.0-py3-none-any.whl (75 kB)\n",
      "\u001b[2K   \u001b[90m━━━━━━━━━━━━━━━━━━━━━━━━━━━━━━━━━━━━━━━━\u001b[0m \u001b[32m75.6/75.6 kB\u001b[0m \u001b[31m9.4 MB/s\u001b[0m eta \u001b[36m0:00:00\u001b[0m\n",
      "\u001b[?25hDownloading httpcore-1.0.5-py3-none-any.whl (77 kB)\n",
      "\u001b[2K   \u001b[90m━━━━━━━━━━━━━━━━━━━━━━━━━━━━━━━━━━━━━━━━\u001b[0m \u001b[32m77.9/77.9 kB\u001b[0m \u001b[31m10.3 MB/s\u001b[0m eta \u001b[36m0:00:00\u001b[0m\n",
      "\u001b[?25hDownloading h11-0.14.0-py3-none-any.whl (58 kB)\n",
      "\u001b[2K   \u001b[90m━━━━━━━━━━━━━━━━━━━━━━━━━━━━━━━━━━━━━━━━\u001b[0m \u001b[32m58.3/58.3 kB\u001b[0m \u001b[31m7.1 MB/s\u001b[0m eta \u001b[36m0:00:00\u001b[0m\n",
      "\u001b[?25hInstalling collected packages: h11, distro, httpcore, httpx, openai\n",
      "Successfully installed distro-1.9.0 h11-0.14.0 httpcore-1.0.5 httpx-0.27.0 openai-1.26.0\n"
     ]
    }
   ],
   "source": [
    "# Run this cell to install required packages in your Jupyter notebook environment\n",
    "!pip install openai sqlalchemy sqlmodel psycopg2-binary pandas"
   ]
  },
  {
   "cell_type": "markdown",
   "id": "27802efe-2b0d-4624-962f-24999ed68970",
   "metadata": {},
   "source": [
    "Connect to DB"
   ]
  },
  {
   "cell_type": "code",
   "execution_count": 2,
   "id": "1a9b8eaa-3d31-4a8f-8572-dc62764a6ac1",
   "metadata": {},
   "outputs": [],
   "source": [
    "from sqlalchemy import create_engine\n",
    "from sqlmodel import Session, SQLModel, select\n",
    "\n",
    "# PostgreSQL connection URL\n",
    "DATABASE_HOST = \"db\"  # Service name in docker-compose.yml\n",
    "DATABASE_PORT = \"5432\"\n",
    "DATABASE_NAME = \"updatesdb\"\n",
    "DATABASE_USER = \"postgres\"\n",
    "DATABASE_PASSWORD = \"your_password\"\n",
    "\n",
    "ENGINE_URL = f\"postgresql://{DATABASE_USER}:{DATABASE_PASSWORD}@{DATABASE_HOST}:{DATABASE_PORT}/{DATABASE_NAME}\"\n",
    "\n",
    "engine = create_engine(ENGINE_URL, echo=True, pool_pre_ping=True)\n",
    "\n",
    "# Optional: If you need to create the tables in your database (uncomment if necessary)\n",
    "# SQLModel.metadata.create_all(engine)"
   ]
  },
  {
   "cell_type": "markdown",
   "id": "78584ef2-63cc-457e-9c99-8ff695b9c8e3",
   "metadata": {},
   "source": [
    "Models"
   ]
  },
  {
   "cell_type": "code",
   "execution_count": 3,
   "id": "a5cd5671-3294-45ef-9185-5c0ccaf194fa",
   "metadata": {},
   "outputs": [],
   "source": [
    "from typing import Optional\n",
    "from sqlmodel import SQLModel, Field, Relationship\n",
    "from sqlalchemy import Column, BigInteger\n",
    "\n",
    "class ChatType(SQLModel, table=True):\n",
    "    id: Optional[int] = Field(default=None, primary_key=True)\n",
    "    type_name: str = Field(sa_column_kwargs={\"unique\": False})\n",
    "\n",
    "class Chat(SQLModel, table=True):\n",
    "    id: int = Field(primary_key=True)\n",
    "    chat_id: Optional[int] = Field(default=None, sa_column=Column(BigInteger()))\n",
    "    all_members_are_administrators: bool = Field()\n",
    "    title: str = Field()\n",
    "    type_id: int = Field(foreign_key=\"chattype.id\")\n",
    "    type: ChatType = Relationship()\n",
    "\n",
    "class User(SQLModel, table=True):\n",
    "    id: int = Field(primary_key=True, index=True)\n",
    "    user_id: Optional[int] = Field(default=None)  # Telegram user ID\n",
    "    first_name: str = Field()\n",
    "    last_name: Optional[str] = Field(default=None)\n",
    "    is_bot: bool = Field()\n",
    "    language_code: str = Field()\n",
    "    username: Optional[str] = Field()\n",
    "\n",
    "class Message(SQLModel, table=True):\n",
    "    id: int = Field(primary_key=True)\n",
    "    message_id: int = Field(default=None)\n",
    "    channel_chat_created: bool = Field()\n",
    "    chat_id: int = Field(foreign_key=\"chat.id\")\n",
    "    chat: Chat = Relationship()\n",
    "    date: int = Field()\n",
    "    delete_chat_photo: bool = Field()\n",
    "    from_user_id: int = Field(foreign_key=\"user.id\")\n",
    "    from_user: User = Relationship()\n",
    "    group_chat_created: bool = Field()\n",
    "    reply_to_message_id: Optional[int] = Field(default=None, foreign_key=\"message.id\")\n",
    "    reply_to_message: 'Message' = Relationship(sa_relationship_kwargs={\"remote_side\": \"Message.id\"})\n",
    "    supergroup_chat_created: bool = Field()\n",
    "    text: Optional[str] = Field()\n",
    "\n",
    "class Update(SQLModel, table=True):\n",
    "    update_id: int = Field(primary_key=True)\n",
    "    message_id: Optional[int] = Field(default=None, foreign_key=\"message.id\")\n",
    "    message: Optional[Message] = Relationship()"
   ]
  },
  {
   "cell_type": "markdown",
   "id": "ce4fcedb-b487-4a82-a83f-d975aa1c1332",
   "metadata": {
    "jp-MarkdownHeadingCollapsed": true
   },
   "source": [
    "---\n",
    "\n",
    "### Display Tables (in pandas)"
   ]
  },
  {
   "cell_type": "code",
   "execution_count": 4,
   "id": "bc9b9a00-897a-44da-a2cc-43972a843319",
   "metadata": {},
   "outputs": [],
   "source": [
    "import pandas as pd\n",
    "\n",
    "def display_table_data_pandas(model_class):\n",
    "    with Session(engine) as session:\n",
    "        statement = select(model_class)\n",
    "        results = session.exec(statement).all()\n",
    "        return pd.DataFrame([result.__dict__ for result in results])"
   ]
  },
  {
   "cell_type": "code",
   "execution_count": 5,
   "id": "81b6de44-1a62-4567-9fbe-03147e42b8e0",
   "metadata": {},
   "outputs": [
    {
     "name": "stdout",
     "output_type": "stream",
     "text": [
      "2024-05-07 09:57:56,464 INFO sqlalchemy.engine.Engine select pg_catalog.version()\n",
      "2024-05-07 09:57:56,464 INFO sqlalchemy.engine.Engine [raw sql] {}\n",
      "2024-05-07 09:57:56,464 INFO sqlalchemy.engine.Engine select current_schema()\n",
      "2024-05-07 09:57:56,465 INFO sqlalchemy.engine.Engine [raw sql] {}\n",
      "2024-05-07 09:57:56,465 INFO sqlalchemy.engine.Engine show standard_conforming_strings\n",
      "2024-05-07 09:57:56,465 INFO sqlalchemy.engine.Engine [raw sql] {}\n",
      "2024-05-07 09:57:56,466 INFO sqlalchemy.engine.Engine BEGIN (implicit)\n",
      "2024-05-07 09:57:56,471 INFO sqlalchemy.engine.Engine SELECT message.id, message.message_id, message.channel_chat_created, message.chat_id, message.date, message.delete_chat_photo, message.from_user_id, message.group_chat_created, message.reply_to_message_id, message.supergroup_chat_created, message.text \n",
      "FROM message\n",
      "2024-05-07 09:57:56,471 INFO sqlalchemy.engine.Engine [generated in 0.00027s] {}\n",
      "2024-05-07 09:57:56,473 INFO sqlalchemy.engine.Engine ROLLBACK\n"
     ]
    },
    {
     "data": {
      "text/html": [
       "<div>\n",
       "<style scoped>\n",
       "    .dataframe tbody tr th:only-of-type {\n",
       "        vertical-align: middle;\n",
       "    }\n",
       "\n",
       "    .dataframe tbody tr th {\n",
       "        vertical-align: top;\n",
       "    }\n",
       "\n",
       "    .dataframe thead th {\n",
       "        text-align: right;\n",
       "    }\n",
       "</style>\n",
       "<table border=\"1\" class=\"dataframe\">\n",
       "  <thead>\n",
       "    <tr style=\"text-align: right;\">\n",
       "      <th></th>\n",
       "      <th>_sa_instance_state</th>\n",
       "      <th>id</th>\n",
       "      <th>channel_chat_created</th>\n",
       "      <th>delete_chat_photo</th>\n",
       "      <th>reply_to_message_id</th>\n",
       "      <th>supergroup_chat_created</th>\n",
       "      <th>text</th>\n",
       "      <th>message_id</th>\n",
       "      <th>chat_id</th>\n",
       "      <th>date</th>\n",
       "      <th>from_user_id</th>\n",
       "      <th>group_chat_created</th>\n",
       "    </tr>\n",
       "  </thead>\n",
       "  <tbody>\n",
       "    <tr>\n",
       "      <th>0</th>\n",
       "      <td>&lt;sqlalchemy.orm.state.InstanceState object at ...</td>\n",
       "      <td>1</td>\n",
       "      <td>False</td>\n",
       "      <td>False</td>\n",
       "      <td>NaN</td>\n",
       "      <td>False</td>\n",
       "      <td>Earth in forgetful snow, feeding</td>\n",
       "      <td>180</td>\n",
       "      <td>1</td>\n",
       "      <td>1714930267</td>\n",
       "      <td>1</td>\n",
       "      <td>False</td>\n",
       "    </tr>\n",
       "    <tr>\n",
       "      <th>1</th>\n",
       "      <td>&lt;sqlalchemy.orm.state.InstanceState object at ...</td>\n",
       "      <td>2</td>\n",
       "      <td>False</td>\n",
       "      <td>False</td>\n",
       "      <td>NaN</td>\n",
       "      <td>False</td>\n",
       "      <td>Earth in forgetful snow, feeding</td>\n",
       "      <td>180</td>\n",
       "      <td>3</td>\n",
       "      <td>1714930267</td>\n",
       "      <td>3</td>\n",
       "      <td>False</td>\n",
       "    </tr>\n",
       "    <tr>\n",
       "      <th>2</th>\n",
       "      <td>&lt;sqlalchemy.orm.state.InstanceState object at ...</td>\n",
       "      <td>3</td>\n",
       "      <td>False</td>\n",
       "      <td>False</td>\n",
       "      <td>2.0</td>\n",
       "      <td>False</td>\n",
       "      <td>A little life with dried tubers.</td>\n",
       "      <td>181</td>\n",
       "      <td>2</td>\n",
       "      <td>1714930290</td>\n",
       "      <td>2</td>\n",
       "      <td>False</td>\n",
       "    </tr>\n",
       "    <tr>\n",
       "      <th>3</th>\n",
       "      <td>&lt;sqlalchemy.orm.state.InstanceState object at ...</td>\n",
       "      <td>4</td>\n",
       "      <td>False</td>\n",
       "      <td>False</td>\n",
       "      <td>NaN</td>\n",
       "      <td>False</td>\n",
       "      <td>Earth in forgetful snow, feeding</td>\n",
       "      <td>180</td>\n",
       "      <td>5</td>\n",
       "      <td>1714930267</td>\n",
       "      <td>5</td>\n",
       "      <td>False</td>\n",
       "    </tr>\n",
       "    <tr>\n",
       "      <th>4</th>\n",
       "      <td>&lt;sqlalchemy.orm.state.InstanceState object at ...</td>\n",
       "      <td>5</td>\n",
       "      <td>False</td>\n",
       "      <td>False</td>\n",
       "      <td>4.0</td>\n",
       "      <td>False</td>\n",
       "      <td>Summer surprised us, coming over the Starnberg...</td>\n",
       "      <td>182</td>\n",
       "      <td>4</td>\n",
       "      <td>1714930308</td>\n",
       "      <td>4</td>\n",
       "      <td>False</td>\n",
       "    </tr>\n",
       "  </tbody>\n",
       "</table>\n",
       "</div>"
      ],
      "text/plain": [
       "                                  _sa_instance_state  id  \\\n",
       "0  <sqlalchemy.orm.state.InstanceState object at ...   1   \n",
       "1  <sqlalchemy.orm.state.InstanceState object at ...   2   \n",
       "2  <sqlalchemy.orm.state.InstanceState object at ...   3   \n",
       "3  <sqlalchemy.orm.state.InstanceState object at ...   4   \n",
       "4  <sqlalchemy.orm.state.InstanceState object at ...   5   \n",
       "\n",
       "   channel_chat_created  delete_chat_photo  reply_to_message_id  \\\n",
       "0                 False              False                  NaN   \n",
       "1                 False              False                  NaN   \n",
       "2                 False              False                  2.0   \n",
       "3                 False              False                  NaN   \n",
       "4                 False              False                  4.0   \n",
       "\n",
       "   supergroup_chat_created                                               text  \\\n",
       "0                    False                   Earth in forgetful snow, feeding   \n",
       "1                    False                   Earth in forgetful snow, feeding   \n",
       "2                    False                   A little life with dried tubers.   \n",
       "3                    False                   Earth in forgetful snow, feeding   \n",
       "4                    False  Summer surprised us, coming over the Starnberg...   \n",
       "\n",
       "   message_id  chat_id        date  from_user_id  group_chat_created  \n",
       "0         180        1  1714930267             1               False  \n",
       "1         180        3  1714930267             3               False  \n",
       "2         181        2  1714930290             2               False  \n",
       "3         180        5  1714930267             5               False  \n",
       "4         182        4  1714930308             4               False  "
      ]
     },
     "execution_count": 5,
     "metadata": {},
     "output_type": "execute_result"
    }
   ],
   "source": [
    "# Display data using pandas for better formatting\n",
    "data = display_table_data_pandas(Message)\n",
    "data.head()"
   ]
  },
  {
   "cell_type": "markdown",
   "id": "219a061d-4a17-4710-991c-3366a0e34e55",
   "metadata": {},
   "source": [
    "---\n",
    "\n",
    "### Reconstruct Chat History"
   ]
  },
  {
   "cell_type": "code",
   "execution_count": 11,
   "id": "850448fd-453d-45c4-a5c3-c6fff5d75837",
   "metadata": {},
   "outputs": [],
   "source": [
    "from datetime import datetime, timedelta\n",
    "\n",
    "def reconstruct_chat_as_text(engine, start_time: datetime, end_time: datetime):\n",
    "    chat_history = []\n",
    "    with Session(engine) as session:\n",
    "        # Define the query with a time filter and order by date\n",
    "        statement = select(Message, User).join(User).where(\n",
    "            (Message.date >= start_time.timestamp()) & \n",
    "            (Message.date <= end_time.timestamp())\n",
    "        ).order_by(Message.date)\n",
    "\n",
    "        results = session.exec(statement).all()\n",
    "\n",
    "        for message, user in results:\n",
    "            if message.reply_to_message_id:\n",
    "                # Fetch the original message and user if the current message is a reply\n",
    "                original_message = session.get(Message, message.reply_to_message_id)\n",
    "                original_user = session.get(User, original_message.from_user_id)\n",
    "                chat_line = f\"{user.username}: <replying to: {original_user.username}: {original_message.text}> {message.text}\"\n",
    "            else:\n",
    "                chat_line = f\"{user.username}: {message.text}\"\n",
    "            \n",
    "            chat_history.append(chat_line)\n",
    "\n",
    "    return \"\\n\".join(chat_history)"
   ]
  },
  {
   "cell_type": "code",
   "execution_count": 15,
   "id": "8ca7dc00-0d4c-4bf6-98bd-276dad0a6cd5",
   "metadata": {},
   "outputs": [
    {
     "name": "stdout",
     "output_type": "stream",
     "text": [
      "2024-05-07 10:40:16,851 INFO sqlalchemy.engine.Engine BEGIN (implicit)\n",
      "2024-05-07 10:40:16,851 INFO sqlalchemy.engine.Engine SELECT message.id, message.message_id, message.channel_chat_created, message.chat_id, message.date, message.delete_chat_photo, message.from_user_id, message.group_chat_created, message.reply_to_message_id, message.supergroup_chat_created, message.text, \"user\".id AS id_1, \"user\".user_id, \"user\".first_name, \"user\".last_name, \"user\".is_bot, \"user\".language_code, \"user\".username \n",
      "FROM message JOIN \"user\" ON \"user\".id = message.from_user_id \n",
      "WHERE message.date >= %(date_1)s AND message.date <= %(date_2)s ORDER BY message.date\n",
      "2024-05-07 10:40:16,852 INFO sqlalchemy.engine.Engine [cached since 158.6s ago] {'date_1': 1714867200.0, 'date_2': 1714953599.0}\n",
      "2024-05-07 10:40:16,852 INFO sqlalchemy.engine.Engine ROLLBACK\n"
     ]
    }
   ],
   "source": [
    "# Get dates\n",
    "today = datetime.now()\n",
    "previous_day = today - timedelta(days=2)\n",
    "# Set start_time to the beginning of the previous day (00:00:00)\n",
    "start_time = datetime(previous_day.year, previous_day.month, previous_day.day, 0, 0, 0)\n",
    "# Set end_time to the end of the previous day (23:59:59)\n",
    "end_time = datetime(previous_day.year, previous_day.month, previous_day.day, 23, 59, 59)\n",
    "\n",
    "# Get chat history text\n",
    "chat_text = reconstruct_chat_as_text(engine, start_time, end_time)"
   ]
  },
  {
   "cell_type": "code",
   "execution_count": 21,
   "id": "33d5ec13-e669-4810-a059-4650f5c2fa04",
   "metadata": {},
   "outputs": [
    {
     "name": "stdout",
     "output_type": "stream",
     "text": [
      "Ramshreyas: Earth in forgetful snow, feeding\n",
      "Ramshreyas: Earth in forgetful snow, feeding\n",
      "Ramshreyas: Earth in forgetful snow, feeding\n",
      "Ramshreyas: <replying to: Ramshreyas: Earth in forgetful snow, feeding> A little life with dried tubers.\n",
      "Ramshreyas: <replying to: Ramshreyas: Earth in forgetful snow, feeding> Summer surprised us, coming over the Starnbergersee\n",
      "Ramshreyas: Summer surprised us, coming over the Starnbergersee\n",
      "Ramshreyas: <replying to: Ramshreyas: Summer surprised us, coming over the Starnbergersee> With a shower of rain; we stopped in the colonnade,\n",
      "Ramshreyas: And went on in sunlight, into the Hofgarten,\n"
     ]
    }
   ],
   "source": [
    "print(chat_text)"
   ]
  },
  {
   "cell_type": "markdown",
   "id": "b8ba8880-05bb-4804-972f-b2a60bbcdc96",
   "metadata": {},
   "source": [
    "---\n",
    "\n",
    "### Extract topics"
   ]
  },
  {
   "cell_type": "code",
   "execution_count": 42,
   "id": "d27d9e68-3bc6-476f-996f-7640b83966be",
   "metadata": {},
   "outputs": [],
   "source": [
    "from openai import OpenAI\n",
    "\n",
    "client = OpenAI(api_key=\"your_api_key_here\")\n",
    "\n",
    "def extract_topics_from_chat(chat_text):\n",
    "    # Using the chat-specific completion API\n",
    "    response = client.chat.completions.create(\n",
    "        model=\"gpt-3.5-turbo\",  # Use an appropriate model, like 'gpt-3.5-turbo'\n",
    "        messages=[{\"role\": \"system\", \"content\": \"Extract the main topics from the following group chat:\"},\n",
    "                  {\"role\": \"user\", \"content\": chat_text}],\n",
    "        max_tokens=300,\n",
    "        temperature=0.5,\n",
    "        stop=[\"\\n\\n\"]\n",
    "    )\n",
    "    \n",
    "    return response.choices[0].message.content"
   ]
  },
  {
   "cell_type": "code",
   "execution_count": 43,
   "id": "d2f25d07-29fa-43a2-9250-309984ddda3f",
   "metadata": {},
   "outputs": [],
   "source": [
    "# Assume the OpenAI client is initialized and `extract_topics_from_chat` is defined\n",
    "dummy_chat_text = \"\"\"\n",
    "Alice: I just got a new kitten yesterday!\n",
    "Bob: Oh, that's awesome! What breed?\n",
    "Alice: She's a Maine Coon, absolutely adorable.\n",
    "Charlie: Speaking of pets, I've been thinking about getting a fish tank.\n",
    "Alice: Fish are cool, but they seem like a lot of work.\n",
    "Bob: <replying to: Charlie: Speaking of pets, I've been thinking about getting a fish tank.> It's not too bad, you should definitely go for it. I had one as a kid.\n",
    "Charlie: Any recommendations for beginner fish?\n",
    "Bob: Goldfish are pretty straightforward, but bettas have more personality.\n",
    "Alice: <replying to: Bob: Oh, that's awesome! What breed?> Cats are easier to handle though, don't you think?\n",
    "Bob: <replying to: Alice: Cats are easier to handle though, don't you think?> Definitely, cats are more independent.\n",
    "Charlie: I like dogs more though. They're more interactive.\n",
    "Alice: I'm allergic to dogs unfortunately.\n",
    "Bob: <replying to: Charlie: I like dogs more though. They're more interactive.> Dogs are great for active people. Always ready to go out.\n",
    "Charlie: <replying to: Bob: Goldfish are pretty straightforward, but bettas have more personality.> I might consider a betta then.\n",
    "Alice: Just make sure the tank is big enough, they need space to thrive.\n",
    "Bob: <replying to: Alice: Just make sure the tank is big enough, they need space to thrive.> Yeah, and keep the water clean!\n",
    "\"\"\"\n",
    "\n",
    "topics = extract_topics_from_chat(dummy_chat_text)"
   ]
  },
  {
   "cell_type": "code",
   "execution_count": 44,
   "id": "b5561e0d-c0fd-43cb-bd6f-a45470bab225",
   "metadata": {},
   "outputs": [
    {
     "name": "stdout",
     "output_type": "stream",
     "text": [
      "1. Pets (kitten, fish, cats, dogs)\n",
      "2. Fish tanks and fish care (beginner fish, tank size, water cleanliness)\n",
      "3. Different pet preferences (cats, dogs, fish)\n",
      "4. Allergies to pets\n",
      "5. Pet ownership responsibilities and considerations\n"
     ]
    }
   ],
   "source": [
    "print(topics)"
   ]
  },
  {
   "cell_type": "code",
   "execution_count": null,
   "id": "016375de-a269-4afc-bae3-89d00f50de6b",
   "metadata": {},
   "outputs": [],
   "source": []
  }
 ],
 "metadata": {
  "kernelspec": {
   "display_name": "Python 3 (ipykernel)",
   "language": "python",
   "name": "python3"
  },
  "language_info": {
   "codemirror_mode": {
    "name": "ipython",
    "version": 3
   },
   "file_extension": ".py",
   "mimetype": "text/x-python",
   "name": "python",
   "nbconvert_exporter": "python",
   "pygments_lexer": "ipython3",
   "version": "3.11.6"
  }
 },
 "nbformat": 4,
 "nbformat_minor": 5
}
